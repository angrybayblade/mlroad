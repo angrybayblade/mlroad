{
 "cells": [
  {
   "cell_type": "code",
   "execution_count": 22,
   "metadata": {},
   "outputs": [],
   "source": [
    "import numpy as np\n",
    "import tensorflow as tf\n",
    "import tensorflow.keras as keras\n",
    "\n",
    "import matplotlib.pyplot as plt\n",
    "%matplotlib inline\n",
    "\n",
    "from sklearn.model_selection import train_test_split"
   ]
  },
  {
   "cell_type": "code",
   "execution_count": 23,
   "metadata": {},
   "outputs": [],
   "source": [
    "mnist = keras.datasets.mnist\n",
    "\n",
    "(x_train,y_train),(x_test,y_test) = mnist.load_data()"
   ]
  },
  {
   "cell_type": "code",
   "execution_count": 25,
   "metadata": {},
   "outputs": [],
   "source": [
    "model = ker.models.Sequential([\n",
    "    keras.layers.Flatten(input_shape=(28,28)),\n",
    "    keras.layers.Dense(128,activation=\"relu\"),\n",
    "    keras.layers.Dropout(0.2),\n",
    "    keras.layers.Dense(10,activation=\"softmax\")\n",
    "])"
   ]
  },
  {
   "cell_type": "code",
   "execution_count": 27,
   "metadata": {},
   "outputs": [],
   "source": [
    "model.compile(optimizer=\"adam\",loss=\"sparse_categorical_crossentropy\",metrics=[\"accuracy\"])"
   ]
  },
  {
   "cell_type": "code",
   "execution_count": 29,
   "metadata": {},
   "outputs": [
    {
     "name": "stdout",
     "output_type": "stream",
     "text": [
      "Epoch 1/20\n",
      "60000/60000 [==============================] - 3s 57us/sample - loss: 0.3248 - acc: 0.9179\n",
      "Epoch 2/20\n",
      "60000/60000 [==============================] - 3s 55us/sample - loss: 0.3201 - acc: 0.9198\n",
      "Epoch 3/20\n",
      "60000/60000 [==============================] - 3s 56us/sample - loss: 0.3108 - acc: 0.9191\n",
      "Epoch 4/20\n",
      "60000/60000 [==============================] - 3s 57us/sample - loss: 0.3089 - acc: 0.9214\n",
      "Epoch 5/20\n",
      "60000/60000 [==============================] - 3s 54us/sample - loss: 0.3025 - acc: 0.9232\n",
      "Epoch 6/20\n",
      "60000/60000 [==============================] - 3s 54us/sample - loss: 0.3060 - acc: 0.9230\n",
      "Epoch 7/20\n",
      "60000/60000 [==============================] - 3s 56us/sample - loss: 0.2990 - acc: 0.9248\n",
      "Epoch 8/20\n",
      "60000/60000 [==============================] - 3s 55us/sample - loss: 0.3027 - acc: 0.9250\n",
      "Epoch 9/20\n",
      "60000/60000 [==============================] - 3s 55us/sample - loss: 0.2855 - acc: 0.9276\n",
      "Epoch 10/20\n",
      "60000/60000 [==============================] - 3s 56us/sample - loss: 0.2956 - acc: 0.9269\n",
      "Epoch 11/20\n",
      "60000/60000 [==============================] - 3s 57us/sample - loss: 0.2977 - acc: 0.9257\n",
      "Epoch 12/20\n",
      "60000/60000 [==============================] - 3s 56us/sample - loss: 0.2890 - acc: 0.9280\n",
      "Epoch 13/20\n",
      "60000/60000 [==============================] - 3s 56us/sample - loss: 0.2880 - acc: 0.9283\n",
      "Epoch 14/20\n",
      "60000/60000 [==============================] - 3s 55us/sample - loss: 0.2885 - acc: 0.9295\n",
      "Epoch 15/20\n",
      "60000/60000 [==============================] - 3s 54us/sample - loss: 0.2850 - acc: 0.9301\n",
      "Epoch 16/20\n",
      "60000/60000 [==============================] - 3s 57us/sample - loss: 0.2764 - acc: 0.9322\n",
      "Epoch 17/20\n",
      "60000/60000 [==============================] - 3s 58us/sample - loss: 0.2756 - acc: 0.9312\n",
      "Epoch 18/20\n",
      "60000/60000 [==============================] - 3s 54us/sample - loss: 0.2685 - acc: 0.9333\n",
      "Epoch 19/20\n",
      "60000/60000 [==============================] - 3s 57us/sample - loss: 0.2846 - acc: 0.9309\n",
      "Epoch 20/20\n",
      "60000/60000 [==============================] - 3s 57us/sample - loss: 0.2689 - acc: 0.9335\n"
     ]
    },
    {
     "data": {
      "text/plain": [
       "<tensorflow.python.keras.callbacks.History at 0x1e048539240>"
      ]
     },
     "execution_count": 29,
     "metadata": {},
     "output_type": "execute_result"
    }
   ],
   "source": [
    "model.fit(x_train,y_train,epochs=20)"
   ]
  },
  {
   "cell_type": "code",
   "execution_count": 30,
   "metadata": {},
   "outputs": [
    {
     "name": "stdout",
     "output_type": "stream",
     "text": [
      "10000/10000 [==============================] - 0s 49us/sample - loss: 0.3977 - acc: 0.9490\n"
     ]
    },
    {
     "data": {
      "text/plain": [
       "[0.39768614881001413, 0.949]"
      ]
     },
     "execution_count": 30,
     "metadata": {},
     "output_type": "execute_result"
    }
   ],
   "source": [
    "model.evaluate(x_test,y_test)"
   ]
  },
  {
   "cell_type": "code",
   "execution_count": 33,
   "metadata": {},
   "outputs": [
    {
     "data": {
      "text/plain": [
       "<matplotlib.image.AxesImage at 0x1e047eeb438>"
      ]
     },
     "execution_count": 33,
     "metadata": {},
     "output_type": "execute_result"
    },
    {
     "data": {
      "image/png": "[encoded data removed]",
      "text/plain": [
       "<Figure size 432x288 with 1 Axes>"
      ]
     },
     "metadata": {
      "needs_background": "light"
     },
     "output_type": "display_data"
    }
   ],
   "source": [
    "plt.imshow(x_test[0])"
   ]
  },
  {
   "cell_type": "code",
   "execution_count": 41,
   "metadata": {},
   "outputs": [
    {
     "data": {
      "text/plain": [
       "array([7], dtype=int64)"
      ]
     },
     "execution_count": 41,
     "metadata": {},
     "output_type": "execute_result"
    }
   ],
   "source": [
    "model.predict_classes([[x_test[0]]])"
   ]
  },
  {
   "cell_type": "markdown",
   "metadata": {},
   "source": [
    "### Using Scaling"
   ]
  },
  {
   "cell_type": "code",
   "execution_count": 44,
   "metadata": {},
   "outputs": [],
   "source": [
    "model_scaled = keras.models.Sequential([\n",
    "    keras.layers.Flatten(input_shape=(28,28)),\n",
    "    keras.layers.Dense(128,activation=\"relu\"),\n",
    "    keras.layers.Dropout(0.1),\n",
    "    keras.layers.Dense(62,activation=\"relu\"),\n",
    "    keras.layers.Dropout(0.1),\n",
    "    keras.layers.Dense(10,activation=\"softmax\")\n",
    "])"
   ]
  },
  {
   "cell_type": "code",
   "execution_count": 47,
   "metadata": {},
   "outputs": [],
   "source": [
    "model_scaled.compile(optimizer=\"adam\",loss=\"sparse_categorical_crossentropy\",metrics=[\"accuracy\"])"
   ]
  },
  {
   "cell_type": "code",
   "execution_count": 52,
   "metadata": {},
   "outputs": [],
   "source": [
    "scaled_X = np.ceil(x_train.copy()/255)\n",
    "scaled_Y = np.ceil(y_train.copy()/255)\n",
    "scaled_x = np.ceil(x_test.copy()/255)\n",
    "scaled_y = np.ceil(y_test.copy()/255)"
   ]
  },
  {
   "cell_type": "code",
   "execution_count": null,
   "metadata": {},
   "outputs": [
    {
     "name": "stdout",
     "output_type": "stream",
     "text": [
      "Epoch 1/10\n",
      "60000/60000 [==============================] - 5s 75us/sample - loss: 0.0146 - acc: 0.9952\n",
      "Epoch 2/10\n",
      "60000/60000 [==============================] - 4s 71us/sample - loss: 0.0109 - acc: 0.9964\n",
      "Epoch 3/10\n",
      "60000/60000 [==============================] - 4s 72us/sample - loss: 0.0086 - acc: 0.9971\n",
      "Epoch 4/10\n",
      "60000/60000 [==============================] - 4s 73us/sample - loss: 0.0068 - acc: 0.9976\n",
      "Epoch 5/10\n",
      "60000/60000 [==============================] - 4s 73us/sample - loss: 0.0056 - acc: 0.9979\n",
      "Epoch 6/10\n",
      "52256/60000 [=========================>....] - ETA: 0s - loss: 0.0054 - acc: 0.9983"
     ]
    }
   ],
   "source": [
    "model_scaled.fit(scaled_X,scaled_Y,epochs=10)"
   ]
  },
  {
   "cell_type": "code",
   "execution_count": null,
   "metadata": {},
   "outputs": [],
   "source": [
    "model_scaled.evaluate(scaled_x,scaled_y)"
   ]
  },
  {
   "cell_type": "code",
   "execution_count": null,
   "metadata": {},
   "outputs": [],
   "source": []
  }
 ],
 "metadata": {
  "kernelspec": {
   "display_name": "Python 3",
   "language": "python",
   "name": "python3"
  },
  "language_info": {
   "codemirror_mode": {
    "name": "ipython",
    "version": 3
   },
   "file_extension": ".py",
   "mimetype": "text/x-python",
   "name": "python",
   "nbconvert_exporter": "python",
   "pygments_lexer": "ipython3",
   "version": "3.7.3"
  }
 },
 "nbformat": 4,
 "nbformat_minor": 2
}
