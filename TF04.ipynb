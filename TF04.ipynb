{
 "cells": [
  {
   "cell_type": "code",
   "execution_count": 3,
   "metadata": {},
   "outputs": [],
   "source": [
    "import tensorflow as tf\n",
    "import numpy as np\n",
    "import pandas as pd\n",
    "\n",
    "import matplotlib.pyplot as plt\n",
    "\n",
    "%matplotlib inline"
   ]
  },
  {
   "cell_type": "code",
   "execution_count": 20,
   "metadata": {},
   "outputs": [],
   "source": [
    "a = tf.placeholder(dtype=tf.int16)\n",
    "b = tf.placeholder(dtype=tf.int16)"
   ]
  },
  {
   "cell_type": "code",
   "execution_count": 32,
   "metadata": {},
   "outputs": [
    {
     "data": {
      "text/plain": [
       "array([11,  4,  3], dtype=int16)"
      ]
     },
     "execution_count": 32,
     "metadata": {},
     "output_type": "execute_result"
    }
   ],
   "source": [
    "init = tf.global_variables_initializer()\n",
    "\n",
    "c = a+b\n",
    "\n",
    "with tf.Session() as sess:\n",
    "    s = c.eval(feed_dict={\n",
    "        a:[10,2,0],\n",
    "        b:[1,2,3],\n",
    "    })\n",
    "    \n",
    "s"
   ]
  },
  {
   "cell_type": "markdown",
   "metadata": {},
   "source": [
    "### Vanilla Neural Network"
   ]
  },
  {
   "cell_type": "code",
   "execution_count": 87,
   "metadata": {},
   "outputs": [
    {
     "data": {
      "text/plain": [
       "<matplotlib.collections.PathCollection at 0x7fce96f91ba8>"
      ]
     },
     "execution_count": 87,
     "metadata": {},
     "output_type": "execute_result"
    },
    {
     "data": {
      "image/png": "[encoded data removed]",
      "text/plain": [
       "<matplotlib.figure.Figure at 0x7fce96de89e8>"
      ]
     },
     "metadata": {
      "needs_background": "light"
     },
     "output_type": "display_data"
    }
   ],
   "source": [
    "X = np.random.randint(-10,300,5000)\n",
    "Y = X * 30 + 7 + np.random.normal(100,1000,size=5000)\n",
    "\n",
    "plt.scatter(X,Y)"
   ]
  },
  {
   "cell_type": "code",
   "execution_count": 177,
   "metadata": {},
   "outputs": [
    {
     "name": "stdout",
     "output_type": "stream",
     "text": [
      "[[14.421321]]\n",
      "[[inf]]\n",
      "[[inf]]\n",
      "[[inf]]\n",
      "[[inf]]\n",
      "[[inf]]\n",
      "[[inf]]\n",
      "[[inf]]\n",
      "[[inf]]\n",
      "[[inf]]\n"
     ]
    }
   ],
   "source": [
    "learning_rate = 0.1\n",
    "epochs = 10\n",
    "batch_size = 100\n",
    "\n",
    "x = tf.placeholder(tf.float32,shape=[None,1],name=\"Feature\")\n",
    "y = tf.placeholder(tf.float32,shape=[None,1],name=\"Label\")\n",
    "\n",
    "weight = tf.Variable(tf.random_normal([1,10],stddev=0.2),name=\"Weight\")\n",
    "bias = tf.Variable(tf.random_normal([10]),name=\"Bias\")\n",
    "\n",
    "weight_out = tf.Variable(tf.random_normal([10,1],stddev=0.2),name=\"Weight_out\")\n",
    "bias_out = tf.Variable(tf.random_normal([1]),name=\"Bias_out\")\n",
    "\n",
    "\n",
    "hidden = tf.nn.relu(\n",
    "        tf.add(\n",
    "            tf.matmul(\n",
    "                x,weight\n",
    "            ),\n",
    "        bias\n",
    "    )\n",
    ")\n",
    "\n",
    "y_ = tf.add(\n",
    "    tf.matmul(\n",
    "        hidden,weight_out\n",
    "    ),\n",
    "    bias_out\n",
    ")\n",
    "\n",
    "loss = tf.reduce_mean(y-y_)\n",
    "optimiser = tf.train.GradientDescentOptimizer(learning_rate=learning_rate).minimize(loss)\n",
    "\n",
    "\n",
    "init = tf.global_variables_initializer()\n",
    "\n",
    "with tf.Session() as sess:\n",
    "    init.run()\n",
    "    \n",
    "    total_batch = int(len(X)/batch_size)\n",
    "    for epoch in range(epochs):\n",
    "        print (y_.eval(feed_dict={x:X[:1].reshape(-1,1)}))\n",
    "        if epoch%10:\n",
    "#             print (y_.eval(feed_dict={x:X.reshape(-1,1)}))\n",
    "            pass\n",
    "        for i in range(total_batch):\n",
    "            batch_index = np.random.randint(1,len(X))\n",
    "            sess.run(optimiser,feed_dict={\n",
    "                x:X[batch_index].reshape(-1,1),\n",
    "                y:Y[batch_index].reshape(-1,1)\n",
    "            })\n",
    "    "
   ]
  },
  {
   "cell_type": "code",
   "execution_count": null,
   "metadata": {},
   "outputs": [],
   "source": []
  },
  {
   "cell_type": "code",
   "execution_count": null,
   "metadata": {},
   "outputs": [],
   "source": []
  }
 ],
 "metadata": {
  "kernelspec": {
   "display_name": "Python 3",
   "language": "python",
   "name": "python3"
  },
  "language_info": {
   "codemirror_mode": {
    "name": "ipython",
    "version": 3
   },
   "file_extension": ".py",
   "mimetype": "text/x-python",
   "name": "python",
   "nbconvert_exporter": "python",
   "pygments_lexer": "ipython3",
   "version": "3.6.9"
  }
 },
 "nbformat": 4,
 "nbformat_minor": 4
}
