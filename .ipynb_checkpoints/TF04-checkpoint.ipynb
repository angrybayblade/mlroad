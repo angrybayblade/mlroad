{
 "cells": [
  {
   "cell_type": "code",
   "execution_count": 3,
   "metadata": {},
   "outputs": [],
   "source": [
    "import tensorflow as tf\n",
    "import numpy as np\n",
    "import pandas as pd\n",
    "\n",
    "import matplotlib.pyplot as plt\n",
    "\n",
    "%matplotlib inline"
   ]
  },
  {
   "cell_type": "code",
   "execution_count": 20,
   "metadata": {},
   "outputs": [],
   "source": [
    "a = tf.placeholder(dtype=tf.int16)\n",
    "b = tf.placeholder(dtype=tf.int16)"
   ]
  },
  {
   "cell_type": "code",
   "execution_count": 32,
   "metadata": {},
   "outputs": [
    {
     "data": {
      "text/plain": [
       "array([11,  4,  3], dtype=int16)"
      ]
     },
     "execution_count": 32,
     "metadata": {},
     "output_type": "execute_result"
    }
   ],
   "source": [
    "init = tf.global_variables_initializer()\n",
    "\n",
    "c = a+b\n",
    "\n",
    "with tf.Session() as sess:\n",
    "    s = c.eval(feed_dict={\n",
    "        a:[10,2,0],\n",
    "        b:[1,2,3],\n",
    "    })\n",
    "    \n",
    "s"
   ]
  },
  {
   "cell_type": "markdown",
   "metadata": {},
   "source": [
    "### Vanilla Neural Network"
   ]
  },
  {
   "cell_type": "code",
   "execution_count": 39,
   "metadata": {},
   "outputs": [
    {
     "name": "stdout",
     "output_type": "stream",
     "text": [
      "[[-0.17580633 -0.14949805  0.2682616   0.04344815  0.12624364 -0.05267565\n",
      "  -0.15162872 -0.2605368   0.47818598 -0.06191958 -0.1628676   0.18489635\n",
      "  -0.14217632  0.00312531 -0.09540442  0.0669662  -0.24110995 -0.01697537\n",
      "  -0.14548567 -0.07901258 -0.13730791 -0.01271695  0.6400505  -0.16957495\n",
      "  -0.11503798 -0.11351029  0.12206812 -0.03886898  0.1299144   0.1481172\n",
      "  -0.18802577 -0.07042924  0.32846427 -0.15459105 -0.03057326  0.1703043\n",
      "   0.06917321  0.05492504 -0.14584981 -0.09131911  0.24876331 -0.34873995\n",
      "   0.20521596 -0.07465859  0.01953343 -0.17647915 -0.1954512   0.14283967\n",
      "   0.04048854 -0.17632076  0.1595615  -0.24327043  0.20547839 -0.14457633\n",
      "  -0.13862227  0.18705896  0.08003307 -0.30919135 -0.15259935 -0.19971971\n",
      "  -0.43790966 -0.16777337 -0.27433813  0.20325582 -0.10657988 -0.03554397\n",
      "  -0.11378181 -0.14685301 -0.26007047 -0.21511133 -0.39335382 -0.15855151\n",
      "   0.34296134  0.10705531  0.19987567 -0.00285876 -0.15651563  0.02397476\n",
      "  -0.01479925 -0.1080751  -0.20994496  0.47845808  0.15977894 -0.02982194\n",
      "  -0.17894801 -0.09422939  0.30940017 -0.23949361 -0.06561216  0.06568502\n",
      "   0.6595249   0.133204    0.2502786  -0.22404876  0.1910635   0.21747866\n",
      "  -0.05465446 -0.06725764 -0.05036996  0.10943762]]\n"
     ]
    }
   ],
   "source": [
    "learning_rate = 0.1\n",
    "epochs = 10\n",
    "batch_size = 100\n",
    "\n",
    "x = tf.placeholder(tf.float16,shape=[None,1],name=\"Feature\")\n",
    "y = tf.placeholder(tf.float16,shape=[None,1],name=\"Label\")\n",
    "\n",
    "weight = tf.random_normal([1,100],stddev=0.2,name=\"Weight\")\n",
    "\n"
   ]
  },
  {
   "cell_type": "code",
   "execution_count": null,
   "metadata": {},
   "outputs": [],
   "source": []
  }
 ],
 "metadata": {
  "kernelspec": {
   "display_name": "Python 3",
   "language": "python",
   "name": "python3"
  },
  "language_info": {
   "codemirror_mode": {
    "name": "ipython",
    "version": 3
   },
   "file_extension": ".py",
   "mimetype": "text/x-python",
   "name": "python",
   "nbconvert_exporter": "python",
   "pygments_lexer": "ipython3",
   "version": "3.6.9"
  }
 },
 "nbformat": 4,
 "nbformat_minor": 4
}
